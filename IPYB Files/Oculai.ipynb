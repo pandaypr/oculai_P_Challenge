{
 "cells": [
  {
   "cell_type": "code",
   "execution_count": 3,
   "id": "36753d37",
   "metadata": {},
   "outputs": [
    {
     "name": "stdout",
     "output_type": "stream",
     "text": [
      "Capturing video\n",
      "Video captured\n",
      "True\n",
      "gfd\n",
      "True\n",
      "gfd\n",
      "True\n",
      "gfd\n",
      "True\n",
      "gfd\n",
      "True\n",
      "gfd\n",
      "True\n",
      "gfd\n",
      "True\n",
      "gfd\n",
      "True\n",
      "gfd\n",
      "False\n"
     ]
    },
    {
     "ename": "TypeError",
     "evalue": "'NoneType' object is not subscriptable",
     "output_type": "error",
     "traceback": [
      "\u001b[0;31m---------------------------------------------------------------------------\u001b[0m",
      "\u001b[0;31mTypeError\u001b[0m                                 Traceback (most recent call last)",
      "\u001b[0;32m<ipython-input-3-b2b93abe9470>\u001b[0m in \u001b[0;36m<module>\u001b[0;34m\u001b[0m\n\u001b[1;32m     16\u001b[0m     \u001b[0mret\u001b[0m\u001b[0;34m,\u001b[0m \u001b[0mframe\u001b[0m \u001b[0;34m=\u001b[0m \u001b[0mmovie\u001b[0m\u001b[0;34m.\u001b[0m\u001b[0mread\u001b[0m\u001b[0;34m(\u001b[0m\u001b[0;34m)\u001b[0m\u001b[0;34m\u001b[0m\u001b[0;34m\u001b[0m\u001b[0m\n\u001b[1;32m     17\u001b[0m     \u001b[0mprint\u001b[0m\u001b[0;34m(\u001b[0m\u001b[0mret\u001b[0m\u001b[0;34m)\u001b[0m\u001b[0;34m\u001b[0m\u001b[0;34m\u001b[0m\u001b[0m\n\u001b[0;32m---> 18\u001b[0;31m     \u001b[0mcropped\u001b[0m \u001b[0;34m=\u001b[0m \u001b[0mframe\u001b[0m\u001b[0;34m[\u001b[0m\u001b[0;36m310\u001b[0m\u001b[0;34m:\u001b[0m\u001b[0;36m560\u001b[0m\u001b[0;34m,\u001b[0m \u001b[0;36m300\u001b[0m\u001b[0;34m:\u001b[0m\u001b[0;36m655\u001b[0m\u001b[0;34m]\u001b[0m\u001b[0;34m\u001b[0m\u001b[0;34m\u001b[0m\u001b[0m\n\u001b[0m\u001b[1;32m     19\u001b[0m     \u001b[0;32mif\u001b[0m \u001b[0mret\u001b[0m \u001b[0;34m==\u001b[0m \u001b[0;32mTrue\u001b[0m\u001b[0;34m:\u001b[0m\u001b[0;34m\u001b[0m\u001b[0;34m\u001b[0m\u001b[0m\n\u001b[1;32m     20\u001b[0m         \u001b[0mcropped\u001b[0m \u001b[0;34m=\u001b[0m \u001b[0mframe\u001b[0m\u001b[0;34m[\u001b[0m\u001b[0;36m305\u001b[0m\u001b[0;34m:\u001b[0m\u001b[0;36m571\u001b[0m\u001b[0;34m,\u001b[0m \u001b[0;36m291\u001b[0m\u001b[0;34m:\u001b[0m\u001b[0;36m662\u001b[0m\u001b[0;34m]\u001b[0m\u001b[0;34m\u001b[0m\u001b[0;34m\u001b[0m\u001b[0m\n",
      "\u001b[0;31mTypeError\u001b[0m: 'NoneType' object is not subscriptable"
     ]
    }
   ],
   "source": [
    "import cv2\n",
    "import sys\n",
    "# print(sys.version)\n",
    " \n",
    "print(\"Capturing video\")\n",
    "movie = cv2.VideoCapture(\"formwork.mp4\")\n",
    "\n",
    "print(\"Video captured\")\n",
    " \n",
    "opened = movie.isOpened\n",
    "\n",
    "if not opened:\n",
    "    print(\"Stream error\")\n",
    "    \n",
    "while opened:\n",
    "    ret, frame = movie.read()\n",
    "    print(ret)\n",
    "    cropped = frame[310:560, 300:655]  \n",
    "    if ret == True:\n",
    "        cropped = frame[305:571, 291:662]  \n",
    "        print(\"gfd\")\n",
    "        cv2.imshow(\"Frame\", frame)\n",
    "        if cv2.waitKey(25) & 0xFF == ord('q'):\n",
    "            break\n",
    "    else:\n",
    "        break\n",
    " \n",
    "movie.release()\n",
    " \n",
    "cv2.destroyAllWindows()"
   ]
  },
  {
   "cell_type": "code",
   "execution_count": 1,
   "id": "33cfb054",
   "metadata": {},
   "outputs": [],
   "source": [
    "import cv2\n",
    "import numpy as np\n",
    "def writeOverImage(img,msg,value):\n",
    "    font = cv2.FONT_HERSHEY_SIMPLEX\n",
    "    cv2.putText(img, msg+':'+str(value), (10,650), font, 2, (0, 255, 100), 2, cv2.LINE_AA)\n",
    "    return(img)"
   ]
  },
  {
   "cell_type": "markdown",
   "id": "a4f7c4f4",
   "metadata": {},
   "source": [
    "# Code to detect formwork progress and save the file"
   ]
  },
  {
   "cell_type": "code",
   "execution_count": 12,
   "id": "85dee450",
   "metadata": {},
   "outputs": [],
   "source": [
    "import cv2\n",
    "import numpy as np\n",
    "# input\n",
    "Video_in = \"data/formwork.mp4\"\n",
    "\n",
    "# output\n",
    "Video_out = \"output/formworkOut.mp4\"\n",
    "\n",
    "# Video Settings\n",
    "winName = 'output'\n",
    "\n",
    "#cv2.resizeWindow(winName, 500, 500)   #gives error if used here, must be used after creating a window using cv2.namedWindow\n",
    "\n",
    "cap = cv2.VideoCapture(Video_in)\n",
    "\n",
    "#Font to write over the image\n",
    "font = cv2.FONT_HERSHEY_SIMPLEX\n",
    "\n",
    "#Capture basic video meta data\n",
    "fps = int(cap.get(cv2.CAP_PROP_FPS))\n",
    "length_video = int(cap.get(cv2.CAP_PROP_FRAME_COUNT))\n",
    "width = int(cap.get(3))\n",
    "height = int(cap.get(4))\n",
    "\n",
    "#To write o/p video\n",
    "fourcc = cv2.VideoWriter_fourcc(*'mp4v')\n",
    "out = cv2.VideoWriter(Video_out, fourcc, fps, (width, height))\n",
    "\n",
    "#Variables\n",
    "n_frame = 0\n",
    "frames = []\n",
    "#dim = (500, 500)\n",
    "#Input frame shape = (720, 1280)\n",
    "\n",
    "\n",
    "while cap.isOpened():\n",
    "    # get frame from video\n",
    "    ret, frame = cap.read()\n",
    "    print('video_progress: ', round(n_frame*100/length_video, 1), '%')\n",
    "    \n",
    "    # Do something\n",
    "    #Verifying that the frame is there before applying any techniques, so the code is operational \n",
    "    #code is kept inside if loop to stop \"NoneType' object is not subscriptable\"\n",
    "\n",
    "    if ret:\n",
    "        #Crop the image to proces only the relevant part\n",
    "        cropped = frame[310:560, 300:655]  \n",
    "    \n",
    "        #BGR range for Yellow color \n",
    "        YELLOW_MIN = np.array([50, 100, 170], np.uint8)\n",
    "        YELLOW_MAX = np.array([130, 200, 255], np.uint8)\n",
    "    \n",
    "        #using in range to detect relevent pixels and count them\n",
    "        dst = cv2.inRange(cropped, YELLOW_MIN, YELLOW_MAX)\n",
    "        yellow_pixels = cv2.countNonZero(dst)\n",
    "        \n",
    "\n",
    "        #frame = writeOverImage(frame,\"Yellow Color\",yellow_pixels)    #Function call to write over frames [REMOVED]\n",
    "        cv2.putText(frame,'Yellow Color:'+str(yellow_pixels), (10,650), font, 2, (0, 255, 100), 2, cv2.LINE_AA)      #write over frames \n",
    "        out.write(frame)                                                            #Save the video\n",
    "        #cv2.imwrite('ConcreteImages/'+str(n_frame)+'.bmp', frame)                  #Save individual Images\n",
    "        cv2.namedWindow(winName, cv2.WINDOW_NORMAL)                                 #Define the window\n",
    "        #cv2.resizeWindow(winName, 500, 500)   #To resize window if needed\n",
    "        cv2.imshow('output', frame)            #To display image if needed\n",
    "        if cv2.waitKey(1) == ord('q'):\n",
    "            break\n",
    "    else:\n",
    "        break\n",
    "    n_frame += 1\n",
    "    \n",
    "#Releasing video and destroying all windows after use\n",
    "cap.release()\n",
    "out.release()\n",
    "cv2.destroyAllWindows()"
   ]
  },
  {
   "cell_type": "markdown",
   "id": "7943299f",
   "metadata": {},
   "source": [
    "# To crop the image to area of interest"
   ]
  },
  {
   "cell_type": "code",
   "execution_count": 10,
   "id": "2faed8e6",
   "metadata": {
    "scrolled": false
   },
   "outputs": [
    {
     "name": "stdout",
     "output_type": "stream",
     "text": [
      "(250, 355, 3)\n"
     ]
    }
   ],
   "source": [
    "import cv2\n",
    "image = cv2.imread(\"ConcreteImages/Formwork/Outputs/2.bmp\")\n",
    "cropped = image[310:560, 300:655]  \n",
    "#cropped = image[280:600, 291:720]\n",
    "#          image[y:y+h, x:x+w]\n",
    "cv2.imshow(\"Image\", cropped)\n",
    "print(cropped.shape)\n",
    "cv2.imwrite('ConcreteImages/Formwork/cropped2.bmp', cropped)\n",
    "cv2.waitKey(200)\n",
    "cv2.destroyAllWindows()"
   ]
  },
  {
   "cell_type": "markdown",
   "id": "b2c605cc",
   "metadata": {},
   "source": [
    "# Edge Detection with canny"
   ]
  },
  {
   "cell_type": "code",
   "execution_count": 95,
   "id": "1d958f2c",
   "metadata": {},
   "outputs": [
    {
     "data": {
      "image/png": "[encoded data removed]",
      "text/plain": [
       "<Figure size 432x288 with 2 Axes>"
      ]
     },
     "metadata": {},
     "output_type": "display_data"
    }
   ],
   "source": [
    "import numpy as np\n",
    "import cv2 as cv\n",
    "from matplotlib import pyplot as plt\n",
    "\n",
    "img = cv2.imread(\"ConcreteImages/Reinforcement/cropped2.bmp\")\n",
    "edges = cv.Canny(img,100,200)\n",
    "\n",
    "plt.subplot(121),plt.imshow(img)\n",
    "plt.title('Original Image'), plt.xticks([]), plt.yticks([])\n",
    "plt.subplot(122),plt.imshow(edges)\n",
    "plt.title('Edge Image'), plt.xticks([]), plt.yticks([])\n",
    "plt.show()"
   ]
  },
  {
   "cell_type": "code",
   "execution_count": 96,
   "id": "e5b73c7e",
   "metadata": {},
   "outputs": [
    {
     "data": {
      "text/plain": [
       "4830210"
      ]
     },
     "execution_count": 96,
     "metadata": {},
     "output_type": "execute_result"
    }
   ],
   "source": [
    "np.sum(edges)"
   ]
  },
  {
   "cell_type": "code",
   "execution_count": 2,
   "id": "6954ea71",
   "metadata": {},
   "outputs": [],
   "source": [
    "import cv2\n",
    "import numpy as np;\n",
    "\n",
    "# Read image\n",
    "im = cv2.imread(\"cropped2.bmp\", cv2.IMREAD_GRAYSCALE)\n",
    "\n",
    "# Set up the detector with default parameters.\n",
    "detector = cv2.SimpleBlobDetector()\n",
    "\n",
    "# Detect blobs.\n",
    "keypoints = detector.detect(im)\n",
    "\n",
    "# Draw detected blobs as red circles.\n",
    "# cv2.DRAW_MATCHES_FLAGS_DRAW_RICH_KEYPOINTS ensures the size of the circle corresponds to the size of blob\n",
    "im_with_keypoints = cv2.drawKeypoints(im, keypoints, np.array([]), (0,0,255), cv2.DRAW_MATCHES_FLAGS_DRAW_RICH_KEYPOINTS)\n",
    "\n",
    "# Show keypoints\n",
    "cv2.imshow(\"Keypoints\", im_with_keypoints)\n",
    "cv2.waitKey(6000)\n",
    "cv2.destroyAllWindows()"
   ]
  },
  {
   "cell_type": "markdown",
   "id": "9b0ceabd",
   "metadata": {},
   "source": [
    "# Change the background color to reduce the edges"
   ]
  },
  {
   "cell_type": "code",
   "execution_count": 16,
   "id": "0d75059d",
   "metadata": {},
   "outputs": [
    {
     "name": "stdout",
     "output_type": "stream",
     "text": [
      "(280, 384, 3)\n"
     ]
    }
   ],
   "source": [
    "import numpy as np\n",
    "import cv2 \n",
    "from matplotlib import pyplot as plt\n",
    "img = cv2.imread(\"ConcreteImages/ConcreteCropped/cropped4.bmp\")\n",
    "print(img.shape)\n",
    "img[np.all(img > 200, axis=2)] = 0\n",
    "img[np.all(img < 60, axis=2)] = 0\n",
    "\n",
    "cv2.imshow(\"ewttwert\",img)\n",
    "cv2.waitKey(10000)\n",
    "cv2.destroyAllWindows()"
   ]
  },
  {
   "cell_type": "markdown",
   "id": "d740194c",
   "metadata": {},
   "source": [
    "# Trying with laplacian filters"
   ]
  },
  {
   "cell_type": "code",
   "execution_count": 87,
   "id": "179e77a1",
   "metadata": {},
   "outputs": [],
   "source": [
    "import numpy as np\n",
    "import cv2 as cv\n",
    "from matplotlib import pyplot as plt\n",
    "src = cv.imread(\"ConcreteImages/Reinforcement/cropped4.bmp\")\n",
    "\n",
    "\n",
    "kernel = np.array([[1, 1, 1], [1, -7, 1], [1, 1, 1]], dtype=np.float32)\n",
    "#trying gaussian blur\n",
    "#cv.GaussianBlur(src, (3,3), cv.BORDER_DEFAULT);\n",
    "imgLaplacian = cv.filter2D(src, cv.CV_32F, kernel)\n",
    "#sharp = np.float32(src)\n",
    "#imgResult = sharp - imgLaplacian\n",
    "# convert back to 8bits gray scale\n",
    "#imgResult = np.clip(imgResult, 0, 255)\n",
    "#imgResult = imgResult.astype('uint8')\n",
    "imgLaplacian = np.clip(imgLaplacian, 0, 255)\n",
    "imgLaplacian = np.uint8(imgLaplacian)\n",
    "#cv.imshow('Laplace Filtered Image', imgLaplacian)\n",
    "cv.imshow('New Sharped Image', imgLaplacian)\n",
    "cv.imwrite('ConcreteImages/Reinforcement/acropped4.bmp', imgLaplacian)\n",
    "\n",
    "cv.waitKey(600)\n",
    "cv.destroyAllWindows()"
   ]
  },
  {
   "cell_type": "markdown",
   "id": "2c129a91",
   "metadata": {},
   "source": [
    "# contours"
   ]
  },
  {
   "cell_type": "code",
   "execution_count": 50,
   "id": "086e7cc6",
   "metadata": {},
   "outputs": [
    {
     "name": "stdout",
     "output_type": "stream",
     "text": [
      "Numbers of contours found=572\n"
     ]
    }
   ],
   "source": [
    "import cv2\n",
    "import numpy as np\n",
    "\n",
    "image=cv2.imread('ConcreteImages/ConcreteCropped/cropped4.bmp')\n",
    "\n",
    "gray=cv2.cvtColor(image,cv2.COLOR_BGR2GRAY)\n",
    "\n",
    "edged=cv2.Canny(gray,30,200)    #100, 200\n",
    "\n",
    "#use a copy of your image, e.g. - edged.copy(), since finding contours alter the image\n",
    "#we have to add _, before the contours as an empty argument due to upgrade of the open cv version\n",
    "contours,hierarchy=cv2.findContours(edged,cv2.RETR_EXTERNAL,cv2.CHAIN_APPROX_NONE)\n",
    "cv2.imshow('canny edges after contouring', edged)\n",
    "cv2.imwrite('ConcreteImages/ConcreteCropped/acropped_4.bmp', edged)\n",
    "cv2.waitKey(10000)\n",
    "cv2.destroyAllWindows()\n",
    "#print(contours)\n",
    "print('Numbers of contours found=' + str(len(contours)))\n"
   ]
  },
  {
   "cell_type": "code",
   "execution_count": 59,
   "id": "757c4ccf",
   "metadata": {},
   "outputs": [
    {
     "name": "stdout",
     "output_type": "stream",
     "text": [
      "The number of yellow pixels is: 5274\n"
     ]
    }
   ],
   "source": [
    "image=cv2.imread('ConcreteImages/ConcreteCropped/cropped0.bmp')\n",
    "\n",
    "image = cv2.pyrMeanShiftFiltering(image, 21, 51)\n",
    "\n",
    "BROWN_MIN = np.array([100, 100, 60], np.uint8)\n",
    "# maximum value of brown pixel in BGR order -> brown\n",
    "BROWN_MAX = np.array([170, 200, 180], np.uint8)\n",
    "\n",
    "dst = cv2.inRange(image, BROWN_MIN, BROWN_MAX)\n",
    "no_brown = cv2.countNonZero(dst)\n",
    "print('The number of yellow pixels is: ' + str(no_brown))\n",
    "\n",
    "cv2.imshow('canny edges after contouring', image)\n",
    "cv2.waitKey(300)\n",
    "cv2.destroyAllWindows()"
   ]
  },
  {
   "cell_type": "code",
   "execution_count": null,
   "id": "35479be1",
   "metadata": {},
   "outputs": [],
   "source": [
    "5274   17477    38494    36618  50047  "
   ]
  },
  {
   "cell_type": "markdown",
   "id": "89d658e8",
   "metadata": {},
   "source": [
    "# Rotating image didn't help"
   ]
  },
  {
   "cell_type": "markdown",
   "id": "c785601d",
   "metadata": {},
   "source": [
    "# Yello color range "
   ]
  },
  {
   "cell_type": "code",
   "execution_count": 5,
   "id": "edf6ee26",
   "metadata": {},
   "outputs": [
    {
     "name": "stdout",
     "output_type": "stream",
     "text": [
      "The number of yellow pixels is: 24166\n"
     ]
    }
   ],
   "source": [
    "import cv2\n",
    "import numpy as np\n",
    "\n",
    "img = cv2.imread(\"ConcreteImages/ConcreteCropped/cropped2.bmp\")\n",
    "# minimum value of brown pixel in BGR order -> burleywood\n",
    "BROWN_MIN = np.array([110, 110, 90], np.uint8)\n",
    "# maximum value of brown pixel in BGR order -> brown\n",
    "BROWN_MAX = np.array([140, 160, 170], np.uint8)\n",
    "\n",
    "dst = cv2.inRange(img, BROWN_MIN, BROWN_MAX)\n",
    "no_brown = cv2.countNonZero(dst)\n",
    "print('The number of yellow pixels is: ' + str(no_brown))\n",
    "cv2.imshow(\"opencv\",img)\n",
    "cv2.waitKey(6000)\n",
    "cv2.destroyAllWindows()"
   ]
  },
  {
   "cell_type": "code",
   "execution_count": 40,
   "id": "c3ad0532",
   "metadata": {},
   "outputs": [],
   "source": [
    "import cv2\n",
    "import numpy as np\n",
    "\n",
    "img = cv2.imread(\"ConcreteImages/0.bmp\")\n",
    "\n",
    "cv2.rectangle(img,(310,560),(660,228),(0,255,0),3)\n",
    "cv2.imshow(\"opencv\",img)\n",
    "cv2.waitKey(5000)\n",
    "cv2.destroyAllWindows()"
   ]
  },
  {
   "cell_type": "code",
   "execution_count": null,
   "id": "03345fb9",
   "metadata": {},
   "outputs": [],
   "source": [
    "11811   21623   37146    25601     31000"
   ]
  },
  {
   "cell_type": "markdown",
   "id": "2fb562a8",
   "metadata": {},
   "source": [
    "# Write over images"
   ]
  },
  {
   "cell_type": "code",
   "execution_count": 77,
   "id": "a7cd1247",
   "metadata": {},
   "outputs": [
    {
     "name": "stdout",
     "output_type": "stream",
     "text": [
      "(266, 371, 3)\n"
     ]
    }
   ],
   "source": [
    "import cv2\n",
    "import numpy as np\n",
    "a=15\n",
    "\n",
    "img = cv2.imread(\"ConcreteImages/Formwork/cropped0.bmp\")\n",
    "print(img.shape)\n",
    "font = cv2.FONT_HERSHEY_SIMPLEX\n",
    "cv2.putText(img, 'Edges:'+str(a), (10,250), font, 1.25, (0, 255, 0), 2, cv2.LINE_AA)\n",
    "cv2.imshow(\"opencv\",img)\n",
    "cv2.waitKey(5000)\n",
    "cv2.destroyAllWindows()"
   ]
  },
  {
   "cell_type": "code",
   "execution_count": 2,
   "id": "a7a6480a",
   "metadata": {},
   "outputs": [],
   "source": [
    "def writeOverImage(img,msg,value):\n",
    "    font = cv2.FONT_HERSHEY_SIMPLEX\n",
    "    cv2.putText(img, msg+':'+str(value), (10,250), font, 1.25, (0, 255, 0), 2, cv2.LINE_AA)\n",
    "    return(img)"
   ]
  },
  {
   "cell_type": "code",
   "execution_count": 84,
   "id": "82c6b80e",
   "metadata": {},
   "outputs": [
    {
     "ename": "error",
     "evalue": "OpenCV(4.5.2) ../modules/highgui/src/window.cpp:404: error: (-215:Assertion failed) size.width>0 && size.height>0 in function 'imshow'\n",
     "output_type": "error",
     "traceback": [
      "\u001b[0;31m---------------------------------------------------------------------------\u001b[0m",
      "\u001b[0;31merror\u001b[0m                                     Traceback (most recent call last)",
      "\u001b[0;32m<ipython-input-84-d5ddc0fc840c>\u001b[0m in \u001b[0;36m<module>\u001b[0;34m\u001b[0m\n\u001b[1;32m      1\u001b[0m \u001b[0mimg\u001b[0m \u001b[0;34m=\u001b[0m \u001b[0mcv2\u001b[0m\u001b[0;34m.\u001b[0m\u001b[0mimread\u001b[0m\u001b[0;34m(\u001b[0m\u001b[0;34m\"ConcreteImages/Formwork/cropped0.bmp\"\u001b[0m\u001b[0;34m)\u001b[0m\u001b[0;34m\u001b[0m\u001b[0;34m\u001b[0m\u001b[0m\n\u001b[1;32m      2\u001b[0m \u001b[0mimage\u001b[0m\u001b[0;34m=\u001b[0m\u001b[0mwriteOverImage\u001b[0m\u001b[0;34m(\u001b[0m\u001b[0mimg\u001b[0m\u001b[0;34m,\u001b[0m\u001b[0;34m\"wse\"\u001b[0m\u001b[0;34m,\u001b[0m\u001b[0;34m\"efs\"\u001b[0m\u001b[0;34m)\u001b[0m\u001b[0;34m\u001b[0m\u001b[0;34m\u001b[0m\u001b[0m\n\u001b[0;32m----> 3\u001b[0;31m \u001b[0mcv2\u001b[0m\u001b[0;34m.\u001b[0m\u001b[0mimshow\u001b[0m\u001b[0;34m(\u001b[0m\u001b[0;34m\"opencv\"\u001b[0m\u001b[0;34m,\u001b[0m\u001b[0mimage\u001b[0m\u001b[0;34m)\u001b[0m\u001b[0;34m\u001b[0m\u001b[0;34m\u001b[0m\u001b[0m\n\u001b[0m\u001b[1;32m      4\u001b[0m \u001b[0mcv2\u001b[0m\u001b[0;34m.\u001b[0m\u001b[0mwaitKey\u001b[0m\u001b[0;34m(\u001b[0m\u001b[0;36m5000\u001b[0m\u001b[0;34m)\u001b[0m\u001b[0;34m\u001b[0m\u001b[0;34m\u001b[0m\u001b[0m\n\u001b[1;32m      5\u001b[0m \u001b[0mcv2\u001b[0m\u001b[0;34m.\u001b[0m\u001b[0mdestroyAllWindows\u001b[0m\u001b[0;34m(\u001b[0m\u001b[0;34m)\u001b[0m\u001b[0;34m\u001b[0m\u001b[0;34m\u001b[0m\u001b[0m\n",
      "\u001b[0;31merror\u001b[0m: OpenCV(4.5.2) ../modules/highgui/src/window.cpp:404: error: (-215:Assertion failed) size.width>0 && size.height>0 in function 'imshow'\n"
     ]
    }
   ],
   "source": [
    "img = cv2.imread(\"ConcreteImages/Formwork/cropped0.bmp\")\n",
    "image=writeOverImage(img,\"wse\",\"efs\")\n",
    "cv2.imshow(\"opencv\",image)\n",
    "cv2.waitKey(5000)\n",
    "cv2.destroyAllWindows()"
   ]
  },
  {
   "cell_type": "markdown",
   "id": "1f15e08f",
   "metadata": {},
   "source": [
    "# To find the concreting progress"
   ]
  },
  {
   "cell_type": "code",
   "execution_count": 71,
   "id": "6f821e78",
   "metadata": {},
   "outputs": [
    {
     "name": "stdout",
     "output_type": "stream",
     "text": [
      "video_progress:  0.0 %\n",
      "video_progress:  20.0 %\n",
      "video_progress:  40.0 %\n",
      "video_progress:  60.0 %\n",
      "video_progress:  80.0 %\n",
      "video_progress:  100.0 %\n"
     ]
    }
   ],
   "source": [
    "import cv2\n",
    "import numpy as np\n",
    "# input\n",
    "Video_in = \"data/concreting.mp4\"\n",
    "\n",
    "# output\n",
    "Video_out = \"output/concretingOut.mp4\"\n",
    "\n",
    "# Video Settings\n",
    "winName = 'output'\n",
    "\n",
    "#cv2.resizeWindow(winName, 500, 500)   #gives error if used here, must be used after creating a window using cv2.namedWindow\n",
    "\n",
    "cap = cv2.VideoCapture(Video_in)\n",
    "\n",
    "#Font to write over the image\n",
    "font = cv2.FONT_HERSHEY_SIMPLEX\n",
    "\n",
    "#Capture basic video meta data\n",
    "fps = int(cap.get(cv2.CAP_PROP_FPS))\n",
    "length_video = int(cap.get(cv2.CAP_PROP_FRAME_COUNT))\n",
    "width = int(cap.get(3))\n",
    "height = int(cap.get(4))\n",
    "\n",
    "#To write o/p video\n",
    "fourcc = cv2.VideoWriter_fourcc(*'mp4v')\n",
    "out = cv2.VideoWriter(Video_out, fourcc, fps, (width, height))\n",
    "\n",
    "#Variables\n",
    "n_frame = 0\n",
    "frames = []\n",
    "#dim = (500, 500)\n",
    "#Input frame shape = (720, 1280)\n",
    "\n",
    "\n",
    "while cap.isOpened():\n",
    "    # get frame from video\n",
    "    ret, frame = cap.read()\n",
    "    print('video_progress: ', round(n_frame*100/length_video, 1), '%')\n",
    "    \n",
    "    # Do something\n",
    "    #Verifying that the frame is there before applying any techniques, so the code is operational \n",
    "    #code is kept inside if loop to stop \"NoneType' object is not subscriptable\"\n",
    "\n",
    "    if ret:\n",
    "        #Crop the image to proces only the relevant part\n",
    "        cropped = frame[310:500, 300:655]  \n",
    "\n",
    "        #Using Pyramid Mean Shift Filter which is used before segmentation, it improves the pixel count by reducing the shadows from crane for 3rd and 4th frame\n",
    "        image = cv2.pyrMeanShiftFiltering(cropped, 21, 51)\n",
    "        \n",
    "        #BGR range for Yellow color \n",
    "        Grey_MIN = np.array([100, 100, 60], np.uint8)\n",
    "        Grey_MAX = np.array([170, 200, 180], np.uint8)\n",
    "    \n",
    "        #using in range to detect relevent colored pixels and count them\n",
    "        dst = cv2.inRange(cropped, Grey_MIN, Grey_MAX)\n",
    "        Grey_pixels = cv2.countNonZero(dst)\n",
    "    \n",
    "        #Function call to write the value of number of pixels over the image [REMOVED]\n",
    "        #frame = writeOverImage(frame,\"Yellow Color\",Grey_pixels)\n",
    "        cv2.putText(frame,'Yellow Color:'+str(Grey_pixels), (10,650), font, 2, (0, 255, 100), 2, cv2.LINE_AA)     #write over frames \n",
    "        out.write(frame)                                                            #Save the video\n",
    "        #cv2.imwrite('ConcreteImages/'+str(n_frame)+'.bmp', frame)                  #Save individual Images\n",
    "        cv2.namedWindow(winName, cv2.WINDOW_NORMAL)                                 #Define the window\n",
    "        #cv2.resizeWindow(winName, 500, 500)   #To resize window if needed\n",
    "        cv2.imshow('output', frame)            #To display image if needed\n",
    "        if cv2.waitKey(1) == ord('q'):\n",
    "            break\n",
    "    else:\n",
    "        break\n",
    "    n_frame += 1\n",
    "\n",
    "#Releasing video and destroying all windows after use\n",
    "cap.release()\n",
    "out.release()\n",
    "cv2.destroyAllWindows()"
   ]
  },
  {
   "cell_type": "markdown",
   "id": "11948005",
   "metadata": {},
   "source": [
    "# Removing shaodows"
   ]
  },
  {
   "cell_type": "code",
   "execution_count": 70,
   "id": "d027113b",
   "metadata": {},
   "outputs": [],
   "source": [
    "import cv2\n",
    "import numpy as np\n",
    "\n",
    "img = cv2.imread(\"ConcreteImages/ConcreteCropped/cropped1.bmp\")\n",
    "\n",
    "rgb_planes = cv2.split(img)\n",
    "\n",
    "result_planes = []\n",
    "result_norm_planes = []\n",
    "for plane in rgb_planes:\n",
    "    dilated_img = cv2.dilate(plane, np.ones((11,11), np.uint8))\n",
    "    bg_img = cv2.medianBlur(dilated_img, 21)\n",
    "    diff_img = 255 - cv2.absdiff(plane, bg_img)\n",
    "    norm_img = cv2.normalize(diff_img,None, alpha=0, beta=255, norm_type=cv2.NORM_MINMAX, dtype=cv2.CV_8UC1)\n",
    "    result_planes.append(diff_img)\n",
    "    result_norm_planes.append(norm_img)\n",
    "\n",
    "result = cv2.merge(result_planes)\n",
    "result_norm = cv2.merge(result_norm_planes)\n",
    "cv2.imshow(\"opencv\",result)\n",
    "cv2.waitKey(9000)\n",
    "cv2.destroyAllWindows()\n",
    "#cv2.imwrite('ConcreteImages/Reinforcement/acropped4.png', result)\n",
    "#cv2.imwrite('shadows_out_norm.png', result_norm)"
   ]
  },
  {
   "cell_type": "code",
   "execution_count": 2,
   "id": "ee08beb6",
   "metadata": {},
   "outputs": [],
   "source": [
    "import cv2\n",
    "import numpy as np\n",
    "# input\n",
    "Video_in = \"data/concreting.mp4\"\n",
    "\n",
    "# output\n",
    "Video_out = \"output/XY.mp4\"\n",
    "\n",
    "# Video Settings\n",
    "winName = 'output'\n",
    "\n",
    "#cv2.resizeWindow(winName, 500, 500)   #gives error if used here, must be used after creating \n",
    "#a window using cv2.namedWindow\n",
    "\n",
    "cap = cv2.VideoCapture(Video_in)  #Capturing video from file\n",
    "\n",
    "#Font to write over the video frames\n",
    "font = cv2.FONT_HERSHEY_SIMPLEX\n",
    "\n",
    "#Basic video meta data\n",
    "fps = int(cap.get(cv2.CAP_PROP_FPS))\n",
    "length_video = int(cap.get(cv2.CAP_PROP_FRAME_COUNT))\n",
    "width = int(cap.get(3))\n",
    "height = int(cap.get(4))\n",
    "\n",
    "#To write o/p video\n",
    "fourcc = cv2.VideoWriter_fourcc(*'mp4v')\n",
    "out = cv2.VideoWriter(Video_out, fourcc, fps, (width, height))\n",
    "\n",
    "#variables\n",
    "n_frame = 0                #Frame number\n",
    "frames = []                #list to hold the frame\n",
    "#grey_pixels = []           #List to save the pixel values to create a progress bar\n",
    "\n",
    "opened = cap.isOpened\n",
    "\n",
    "if not opened:\n",
    "    print(\"Stream error\")\n",
    "\n",
    "while opened():\n",
    "    # get frame from video\n",
    "    ret, frame = cap.read()\n",
    "    print('video_progress: ', round(n_frame*100/length_video, 1), '%')\n",
    "    \n",
    "    # Do something\n",
    "\n",
    "    if ret:\n",
    "        #Crop the image to proces only the relevant part\n",
    "        cropped = frame[310:500, 300:655]  \n",
    "        \n",
    "        #Applying pyramidMeanShitFilter \n",
    "        image = cv2.pyrMeanShiftFiltering(cropped, 21, 51)\n",
    "        \n",
    "        #BGR range for Yellow color \n",
    "        Grey_MIN = np.array([100, 100, 60], np.uint8)\n",
    "        Grey_MAX = np.array([170, 200, 180], np.uint8)\n",
    "    \n",
    "        #using in range to detect relevent pixels and count them\n",
    "        dst = cv2.inRange(cropped, Grey_MIN, Grey_MAX)\n",
    "        pixels = cv2.countNonZero(dst)\n",
    "        grey_pixels.append(pixels)\n",
    "        \n",
    "        #Write the value of number of pixels over the image\n",
    "        cv2.putText(frame,'Yellow Color:'+str(pixels), (10,650), font, 2, (0, 255, 100), 2, cv2.LINE_AA)\n",
    "        out.write(frame)\n",
    "        cv2.imwrite('ConcreteImages/'+str(n_frame)+'.bmp', frame)\n",
    "        cv2.namedWindow(winName, cv2.WINDOW_NORMAL)\n",
    "        #cv2.resizeWindow(winName, 500, 500)\n",
    "        cv2.imshow('output', frame)\n",
    "        if cv2.waitKey(1) == ord('q'):\n",
    "            break\n",
    "    else:\n",
    "        break\n",
    "    n_frame += 1\n",
    "\n",
    "#Releasing video and destroying all windows after use\n",
    "cap.release()\n",
    "out.release()\n",
    "cv2.destroyAllWindows()"
   ]
  },
  {
   "cell_type": "code",
   "execution_count": 81,
   "id": "204591bf",
   "metadata": {},
   "outputs": [
    {
     "name": "stdout",
     "output_type": "stream",
     "text": [
      "42154\n",
      "9245\n"
     ]
    }
   ],
   "source": [
    "max_pixels = max(grey_pixels)\n",
    "min_pixels = min(grey_pixels)\n",
    "\n",
    "grey_pixels[0]"
   ]
  },
  {
   "cell_type": "code",
   "execution_count": null,
   "id": "47ee5457",
   "metadata": {},
   "outputs": [],
   "source": []
  }
 ],
 "metadata": {
  "kernelspec": {
   "display_name": "Python 3",
   "language": "python",
   "name": "python3"
  },
  "language_info": {
   "codemirror_mode": {
    "name": "ipython",
    "version": 3
   },
   "file_extension": ".py",
   "mimetype": "text/x-python",
   "name": "python",
   "nbconvert_exporter": "python",
   "pygments_lexer": "ipython3",
   "version": "3.9.5"
  }
 },
 "nbformat": 4,
 "nbformat_minor": 5
}
